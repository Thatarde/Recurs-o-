{
  "nbformat": 4,
  "nbformat_minor": 0,
  "metadata": {
    "colab": {
      "provenance": [],
      "include_colab_link": true
    },
    "kernelspec": {
      "name": "python3",
      "display_name": "Python 3"
    },
    "language_info": {
      "name": "python"
    }
  },
  "cells": [
    {
      "cell_type": "markdown",
      "metadata": {
        "id": "view-in-github",
        "colab_type": "text"
      },
      "source": [
        "<a href=\"https://colab.research.google.com/github/Thatarde/Recurs-o-/blob/main/Fatorial_Recursivo.ipynb\" target=\"_parent\"><img src=\"https://colab.research.google.com/assets/colab-badge.svg\" alt=\"Open In Colab\"/></a>"
      ]
    },
    {
      "cell_type": "code",
      "source": [
        "def fatorial(n): # Definição da função\n",
        "  if n == 0 or n == 1: # Definição do caso base para a chamada não ser infinita\n",
        "    return 1 # 0 e 1 fatoriais são iguais a 1\n",
        "\n",
        "  else: # Caso o valor não seja 0 ou 1\n",
        "    fat = n * fatorial(n-1) # Defini-se uma variável que fará o número do fatorial vezes a chamada dela mesma menos 1 até ser igual à 1\n",
        "  \"\"\"\n",
        "  Lógica do calculo:\n",
        "\n",
        "  fatorial(4) = 4 * fatorial(3) <- igual à 4 * fatorial(4 - 1)\n",
        "  fatorial(3) = 3 * fatorial(2)\n",
        "  fatorial(2) = 2 * fatorial(1)\n",
        "  fatorial(1) = 1\n",
        "\n",
        "  fatorial(1) = 1 * 1 = 1\n",
        "  fatorial(2) = 2 * 1 = 2\n",
        "  fatorial(3) = 3 * 2 = 6\n",
        "  fatorial(4) = 4 * 6 = 24\n",
        "  \"\"\"\n",
        "  return fat # Após todo o calculo multiplicação de trás para frente, retorna o valor do fatorial\n",
        "\n",
        "fatorial(4) # Fatorial a ser calculado (input)\n"
      ],
      "metadata": {
        "colab": {
          "base_uri": "https://localhost:8080/"
        },
        "id": "_RSxmo1QU6T9",
        "outputId": "0f2b19e7-d354-46db-8646-16a050a7f26a"
      },
      "execution_count": null,
      "outputs": [
        {
          "output_type": "execute_result",
          "data": {
            "text/plain": [
              "24"
            ]
          },
          "metadata": {},
          "execution_count": 20
        }
      ]
    },
    {
      "cell_type": "code",
      "source": [
        "def hanoi(n, origem, destino):\n",
        "    if n == 1:\n",
        "        print(f\"Mover disco 1 de {pino_para_nome(origem)} para {pino_para_nome(destino)}\")\n",
        "    else:\n",
        "        auxiliar = 6 - (origem + destino)\n",
        "        hanoi(n - 1, origem, auxiliar)\n",
        "        print(f\"Mover disco {n} de {pino_para_nome(origem)} para {pino_para_nome(destino)}\")\n",
        "        hanoi(n - 1, auxiliar, destino)\n",
        "\n",
        "def pino_para_nome(numero):\n",
        "    #Converte número do pino para nome (A, B, C)\n",
        "    return [\"A\", \"B\", \"C\"][numero-1]\n",
        "\n",
        "print(\"=== RESOLUÇÃO TORRES DE HANÔI ===\")\n",
        "hanoi(3, 1, 3)  # Move 3 discos do pino A para pino C"
      ],
      "metadata": {
        "colab": {
          "base_uri": "https://localhost:8080/"
        },
        "id": "_4fIHTrlERE7",
        "outputId": "b636cceb-90f3-4776-8251-96847723b6c0"
      },
      "execution_count": null,
      "outputs": [
        {
          "output_type": "stream",
          "name": "stdout",
          "text": [
            "=== RESOLUÇÃO TORRES DE HANÔI ===\n",
            "Mover disco 1 de A para C\n",
            "Mover disco 2 de A para B\n",
            "Mover disco 1 de C para B\n",
            "Mover disco 3 de A para C\n",
            "Mover disco 1 de B para A\n",
            "Mover disco 2 de B para C\n",
            "Mover disco 1 de A para C\n"
          ]
        }
      ]
    }
  ]
}